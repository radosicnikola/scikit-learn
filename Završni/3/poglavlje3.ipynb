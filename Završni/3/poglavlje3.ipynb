{
 "cells": [
  {
   "cell_type": "markdown",
   "metadata": {},
   "source": [
    "# Sadržaj"
   ]
  },
  {
   "cell_type": "markdown",
   "metadata": {},
   "source": [
    "- [<i>StratifiedKFold</i>](#stratifiedkfold)\n",
    "- [<i>cross_val_score</i>](#cross_val_score)\n",
    "- [<i>GridSearchCV</i>](#search)\n",
    "- [<i>RandomizedSearchCV</i>](#search)\n",
    "- [<i>learning_curve</i>](#learning_curve)\n",
    "- [<i>validation_curve</i>](#validation_curve)\n",
    "- [<i>confusion_matrix</i>](#confusion_matrix)\n",
    "- [<i>roc_curve</i>](#roc)\n",
    "- [<i>roc_auc_score</i>](#roc)\n",
    "- [<i>precision_recall_curve</i>](#precision_recall_curve)\n",
    "- [<i>accuracy_score</i>](#score)\n",
    "- [<i>precision_score</i>](#score)\n",
    "- [<i>recall_score</i>](#score)\n",
    "- [<i>f1_score</i>](#score)\n",
    "- [<i>make_scorer</i>](#make_scorer)"
   ]
  },
  {
   "cell_type": "markdown",
   "metadata": {},
   "source": [
    "## Korištenje klase <i><font color=\"red\">StratifiedKFold</font></i> <a id=\"stratifiedkfold\"></a>"
   ]
  },
  {
   "cell_type": "code",
   "execution_count": 1,
   "metadata": {
    "collapsed": true
   },
   "outputs": [],
   "source": [
    "import pandas as pd\n",
    "import numpy as np\n",
    "import matplotlib.pyplot as plt"
   ]
  },
  {
   "cell_type": "code",
   "execution_count": 2,
   "metadata": {
    "collapsed": true
   },
   "outputs": [],
   "source": [
    "from sklearn.model_selection import StratifiedKFold"
   ]
  },
  {
   "cell_type": "markdown",
   "metadata": {},
   "source": [
    "<li>Priprema podataka i klasifikatora</li>"
   ]
  },
  {
   "cell_type": "code",
   "execution_count": 3,
   "metadata": {
    "collapsed": true
   },
   "outputs": [],
   "source": [
    "from sklearn import datasets\n",
    "from sklearn.model_selection import train_test_split\n",
    "\n",
    "podaci_vino = datasets.load_wine()\n",
    "podaci, oznake = podaci_vino.data, podaci_vino.target\n",
    "podaci_tren, podaci_test, oznake_tren, oznake_test = train_test_split(podaci, oznake, test_size=0.2,\n",
    "                                                                      stratify=oznake, random_state=1)"
   ]
  },
  {
   "cell_type": "code",
   "execution_count": 4,
   "metadata": {
    "collapsed": true
   },
   "outputs": [],
   "source": [
    "from sklearn.preprocessing import StandardScaler\n",
    "from sklearn.discriminant_analysis import LinearDiscriminantAnalysis as LDA\n",
    "from sklearn.svm import SVC"
   ]
  },
  {
   "cell_type": "code",
   "execution_count": 5,
   "metadata": {
    "collapsed": true
   },
   "outputs": [],
   "source": [
    "podaci_scale_tren = StandardScaler().fit_transform(podaci_tren)\n",
    "podaci_lda_tren = LDA().fit_transform(podaci_scale_tren, oznake_tren)\n",
    "svc = SVC(kernel='linear').fit(podaci_lda_tren, oznake_tren)\n",
    "\n",
    "podaci_scale_test = StandardScaler().fit_transform(podaci_test)\n",
    "podaci_lda_test = LDA().fit_transform(podaci_scale_test, oznake_test)"
   ]
  },
  {
   "cell_type": "code",
   "execution_count": 6,
   "metadata": {},
   "outputs": [
    {
     "data": {
      "text/plain": [
       "1.0"
      ]
     },
     "execution_count": 6,
     "metadata": {},
     "output_type": "execute_result"
    }
   ],
   "source": [
    "svc.score(podaci_lda_test, oznake_test)"
   ]
  },
  {
   "cell_type": "code",
   "execution_count": 7,
   "metadata": {},
   "outputs": [
    {
     "name": "stdout",
     "output_type": "stream",
     "text": [
      "             precision    recall  f1-score   support\n",
      "\n",
      "          0       1.00      1.00      1.00        12\n",
      "          1       1.00      1.00      1.00        14\n",
      "          2       1.00      1.00      1.00        10\n",
      "\n",
      "avg / total       1.00      1.00      1.00        36\n",
      "\n"
     ]
    }
   ],
   "source": [
    "from sklearn.metrics import classification_report\n",
    "\n",
    "print(classification_report(oznake_test, svc.predict(podaci_lda_test)))"
   ]
  },
  {
   "cell_type": "markdown",
   "metadata": {},
   "source": [
    "<li>Odabir 5-struke unakrsne validacije</li>"
   ]
  },
  {
   "cell_type": "code",
   "execution_count": 8,
   "metadata": {
    "collapsed": true
   },
   "outputs": [],
   "source": [
    "stratifiedkfold = StratifiedKFold(n_splits=5).split(podaci_tren, oznake_tren)"
   ]
  },
  {
   "cell_type": "code",
   "execution_count": 9,
   "metadata": {},
   "outputs": [
    {
     "name": "stdout",
     "output_type": "stream",
     "text": [
      "Preciznost: 0.987 +/- 0.027\n"
     ]
    }
   ],
   "source": [
    "rezultati = []\n",
    "for (train, test) in stratifiedkfold:\n",
    "    podaci_scale_tren = StandardScaler().fit_transform(podaci_tren[train])\n",
    "    podaci_lda_tren = LDA().fit_transform(podaci_scale_tren, oznake_tren[train])\n",
    "    svc = SVC(kernel='linear').fit(podaci_lda_tren, oznake_tren[train])\n",
    "    podaci_scale_test = StandardScaler().fit_transform(podaci_tren[test])\n",
    "    podaci_lda_test = LDA().fit_transform(podaci_scale_test, oznake_tren[test])\n",
    "    rezultati.append(svc.score(podaci_lda_test, oznake_tren[test]))\n",
    "print(f'Preciznost: {np.round(np.mean(rezultati), 3)} +/- {np.round(np.std(rezultati), 3)}')"
   ]
  },
  {
   "cell_type": "markdown",
   "metadata": {},
   "source": [
    "<li>Više o klasi <i>Pipeline</i> u zasebnom odjeljku</li>"
   ]
  },
  {
   "cell_type": "code",
   "execution_count": 10,
   "metadata": {
    "collapsed": true
   },
   "outputs": [],
   "source": [
    "from sklearn.pipeline import make_pipeline\n",
    "\n",
    "pipe_svc = make_pipeline(StandardScaler(), LDA(), SVC(kernel='linear'))"
   ]
  },
  {
   "cell_type": "code",
   "execution_count": 11,
   "metadata": {},
   "outputs": [
    {
     "data": {
      "text/plain": [
       "Pipeline(memory=None,\n",
       "     steps=[('standardscaler', StandardScaler(copy=True, with_mean=True, with_std=True)), ('lineardiscriminantanalysis', LinearDiscriminantAnalysis(n_components=None, priors=None, shrinkage=None,\n",
       "              solver='svd', store_covariance=False, tol=0.0001)), ('svc', SVC(C=1.0, cache_size=200, class_weight=None, coef0=0.0,\n",
       "  decision_function_shape='ovr', degree=3, gamma='auto', kernel='linear',\n",
       "  max_iter=-1, probability=False, random_state=None, shrinking=True,\n",
       "  tol=0.001, verbose=False))])"
      ]
     },
     "execution_count": 11,
     "metadata": {},
     "output_type": "execute_result"
    }
   ],
   "source": [
    "pipe_svc.fit(podaci_tren, oznake_tren)"
   ]
  },
  {
   "cell_type": "code",
   "execution_count": 12,
   "metadata": {},
   "outputs": [
    {
     "data": {
      "text/plain": [
       "1.0"
      ]
     },
     "execution_count": 12,
     "metadata": {},
     "output_type": "execute_result"
    }
   ],
   "source": [
    "pipe_svc.score(podaci_test, oznake_test)"
   ]
  },
  {
   "cell_type": "markdown",
   "metadata": {},
   "source": [
    "## Korištenje funkcije <i><font color=\"red\">cross_val_score</font></i> <a id=\"cross_val_score\"></a>"
   ]
  },
  {
   "cell_type": "code",
   "execution_count": 13,
   "metadata": {
    "collapsed": true
   },
   "outputs": [],
   "source": [
    "from sklearn.model_selection import cross_val_score"
   ]
  },
  {
   "cell_type": "markdown",
   "metadata": {},
   "source": [
    "<li>Korištenje 2 jezgre procesora za 10-struku unakrsnu validaciju</li>"
   ]
  },
  {
   "cell_type": "code",
   "execution_count": 14,
   "metadata": {},
   "outputs": [
    {
     "name": "stdout",
     "output_type": "stream",
     "text": [
      "Preciznost: 0.977 +/- 0.035\n",
      "[1.         0.93333333 1.         1.         1.         1.\n",
      " 1.         0.92307692 1.         0.91666667]\n"
     ]
    },
    {
     "data": {
      "image/png": "[encoded data removed]",
      "text/plain": [
       "<matplotlib.figure.Figure at 0x18608e43860>"
      ]
     },
     "metadata": {},
     "output_type": "display_data"
    }
   ],
   "source": [
    "rezultati = cross_val_score(estimator=pipe_svc, X=podaci_tren, y=oznake_tren, cv=10, n_jobs=2)\n",
    "print(f'Preciznost: {np.round(np.mean(rezultati), 3)} +/- {np.round(np.std(rezultati), 3)}')\n",
    "print(rezultati)\n",
    "plt.figure(figsize=(14,6))\n",
    "plt.bar(range(1,11), rezultati, alpha=0.3, align='center', label='Pojedinačna preciznost podskupa', width=0.5, color='green')\n",
    "for (i, rez) in enumerate(rezultati):\n",
    "    plt.text(i + 0.95, rez + 0.03, str(np.round(rez, 2)))\n",
    "plt.plot(range(1,11), rezultati, color='b')\n",
    "plt.ylabel('Preciznost podskupa')\n",
    "plt.axhline(y=0, color='black')\n",
    "plt.ylim((-0.1, 1.1))\n",
    "plt.xlabel('Indeks podskupa')\n",
    "plt.legend(loc='lower left')\n",
    "plt.show()"
   ]
  },
  {
   "cell_type": "markdown",
   "metadata": {},
   "source": [
    "## Korištenje klasa <i><font color=\"red\">GridSearchCV</font></i> i <i><font color=\"red\">RandomizedSearchCV</font></i> <a id=\"search\"></a>"
   ]
  },
  {
   "cell_type": "code",
   "execution_count": 15,
   "metadata": {
    "collapsed": true
   },
   "outputs": [],
   "source": [
    "from sklearn.model_selection import GridSearchCV, RandomizedSearchCV"
   ]
  },
  {
   "cell_type": "markdown",
   "metadata": {},
   "source": [
    "<li>Testiranje svih kombinacija vrijednosti hiperparametara metode potpornih vektora (SVC)</li>"
   ]
  },
  {
   "cell_type": "code",
   "execution_count": 16,
   "metadata": {
    "collapsed": true
   },
   "outputs": [],
   "source": [
    "raspon = [0.01, 0.1, 1.0, 10.0, 100.0]\n",
    "mogucnosti = [{'svc__C': raspon, 'svc__kernel': ['linear']},\n",
    "              {'svc__C': raspon, 'svc__gamma': raspon, 'svc__kernel': ['rbf']},\n",
    "              {'svc__C': raspon, 'svc__gamma': raspon, 'svc__coef0': raspon, 'svc__kernel': ['sigmoid']}]\n",
    "gs = GridSearchCV(estimator=pipe_svc, param_grid=mogucnosti, scoring='accuracy',\n",
    "                  cv=10, n_jobs=-1, verbose=True, return_train_score=True)"
   ]
  },
  {
   "cell_type": "code",
   "execution_count": 17,
   "metadata": {},
   "outputs": [
    {
     "name": "stdout",
     "output_type": "stream",
     "text": [
      "Fitting 10 folds for each of 155 candidates, totalling 1550 fits\n"
     ]
    },
    {
     "name": "stderr",
     "output_type": "stream",
     "text": [
      "[Parallel(n_jobs=-1)]: Done  34 tasks      | elapsed:    2.6s\n",
      "[Parallel(n_jobs=-1)]: Done 1550 out of 1550 | elapsed:    5.0s finished\n"
     ]
    },
    {
     "data": {
      "text/plain": [
       "GridSearchCV(cv=10, error_score='raise',\n",
       "       estimator=Pipeline(memory=None,\n",
       "     steps=[('standardscaler', StandardScaler(copy=True, with_mean=True, with_std=True)), ('lineardiscriminantanalysis', LinearDiscriminantAnalysis(n_components=None, priors=None, shrinkage=None,\n",
       "              solver='svd', store_covariance=False, tol=0.0001)), ('svc'...\n",
       "  max_iter=-1, probability=False, random_state=None, shrinking=True,\n",
       "  tol=0.001, verbose=False))]),\n",
       "       fit_params=None, iid=True, n_jobs=-1,\n",
       "       param_grid=[{'svc__C': [0.01, 0.1, 1.0, 10.0, 100.0], 'svc__kernel': ['linear']}, {'svc__C': [0.01, 0.1, 1.0, 10.0, 100.0], 'svc__gamma': [0.01, 0.1, 1.0, 10.0, 100.0], 'svc__kernel': ['rbf']}, {'svc__C': [0.01, 0.1, 1.0, 10.0, 100.0], 'svc__gamma': [0.01, 0.1, 1.0, 10.0, 100.0], 'svc__coef0': [0.01, 0.1, 1.0, 10.0, 100.0], 'svc__kernel': ['sigmoid']}],\n",
       "       pre_dispatch='2*n_jobs', refit=True, return_train_score=True,\n",
       "       scoring='accuracy', verbose=True)"
      ]
     },
     "execution_count": 17,
     "metadata": {},
     "output_type": "execute_result"
    }
   ],
   "source": [
    "gs.fit(podaci_tren, oznake_tren)"
   ]
  },
  {
   "cell_type": "code",
   "execution_count": 18,
   "metadata": {},
   "outputs": [
    {
     "data": {
      "text/plain": [
       "{'svc__C': 0.1, 'svc__gamma': 0.01, 'svc__kernel': 'rbf'}"
      ]
     },
     "execution_count": 18,
     "metadata": {},
     "output_type": "execute_result"
    }
   ],
   "source": [
    "gs.best_params_"
   ]
  },
  {
   "cell_type": "code",
   "execution_count": 19,
   "metadata": {},
   "outputs": [
    {
     "data": {
      "text/plain": [
       "0.986"
      ]
     },
     "execution_count": 19,
     "metadata": {},
     "output_type": "execute_result"
    }
   ],
   "source": [
    "np.round(gs.best_score_, 3)"
   ]
  },
  {
   "cell_type": "code",
   "execution_count": 20,
   "metadata": {
    "collapsed": true
   },
   "outputs": [],
   "source": [
    "est = gs.best_estimator_"
   ]
  },
  {
   "cell_type": "code",
   "execution_count": 21,
   "metadata": {},
   "outputs": [
    {
     "data": {
      "text/plain": [
       "1.0"
      ]
     },
     "execution_count": 21,
     "metadata": {},
     "output_type": "execute_result"
    }
   ],
   "source": [
    "est.score(podaci_test, oznake_test)"
   ]
  },
  {
   "cell_type": "code",
   "execution_count": 22,
   "metadata": {},
   "outputs": [
    {
     "name": "stdout",
     "output_type": "stream",
     "text": [
      "             precision    recall  f1-score   support\n",
      "\n",
      "          0       1.00      1.00      1.00        12\n",
      "          1       1.00      1.00      1.00        14\n",
      "          2       1.00      1.00      1.00        10\n",
      "\n",
      "avg / total       1.00      1.00      1.00        36\n",
      "\n"
     ]
    }
   ],
   "source": [
    "print(classification_report(oznake_test, est.predict(podaci_test)))"
   ]
  },
  {
   "cell_type": "code",
   "execution_count": 23,
   "metadata": {},
   "outputs": [
    {
     "data": {
      "text/html": [
       "<div>\n",
       "<style>\n",
       "    .dataframe thead tr:only-child th {\n",
       "        text-align: right;\n",
       "    }\n",
       "\n",
       "    .dataframe thead th {\n",
       "        text-align: left;\n",
       "    }\n",
       "\n",
       "    .dataframe tbody tr th {\n",
       "        vertical-align: top;\n",
       "    }\n",
       "</style>\n",
       "<table border=\"1\" class=\"dataframe\">\n",
       "  <thead>\n",
       "    <tr style=\"text-align: right;\">\n",
       "      <th></th>\n",
       "      <th>mean_fit_time</th>\n",
       "      <th>mean_score_time</th>\n",
       "      <th>mean_test_score</th>\n",
       "      <th>mean_train_score</th>\n",
       "      <th>param_svc__C</th>\n",
       "      <th>param_svc__coef0</th>\n",
       "      <th>param_svc__gamma</th>\n",
       "      <th>param_svc__kernel</th>\n",
       "      <th>params</th>\n",
       "      <th>rank_test_score</th>\n",
       "      <th>...</th>\n",
       "      <th>split7_test_score</th>\n",
       "      <th>split7_train_score</th>\n",
       "      <th>split8_test_score</th>\n",
       "      <th>split8_train_score</th>\n",
       "      <th>split9_test_score</th>\n",
       "      <th>split9_train_score</th>\n",
       "      <th>std_fit_time</th>\n",
       "      <th>std_score_time</th>\n",
       "      <th>std_test_score</th>\n",
       "      <th>std_train_score</th>\n",
       "    </tr>\n",
       "  </thead>\n",
       "  <tbody>\n",
       "    <tr>\n",
       "      <th>0</th>\n",
       "      <td>0.034803</td>\n",
       "      <td>0.000598</td>\n",
       "      <td>0.971831</td>\n",
       "      <td>1.000000</td>\n",
       "      <td>0.01</td>\n",
       "      <td>NaN</td>\n",
       "      <td>NaN</td>\n",
       "      <td>linear</td>\n",
       "      <td>{'svc__C': 0.01, 'svc__kernel': 'linear'}</td>\n",
       "      <td>19</td>\n",
       "      <td>...</td>\n",
       "      <td>0.846154</td>\n",
       "      <td>1.0</td>\n",
       "      <td>1.0</td>\n",
       "      <td>1.000000</td>\n",
       "      <td>0.916667</td>\n",
       "      <td>1.0</td>\n",
       "      <td>0.017041</td>\n",
       "      <td>0.000489</td>\n",
       "      <td>0.049292</td>\n",
       "      <td>0.000000</td>\n",
       "    </tr>\n",
       "    <tr>\n",
       "      <th>1</th>\n",
       "      <td>0.006981</td>\n",
       "      <td>0.000498</td>\n",
       "      <td>0.978873</td>\n",
       "      <td>0.998443</td>\n",
       "      <td>0.1</td>\n",
       "      <td>NaN</td>\n",
       "      <td>NaN</td>\n",
       "      <td>linear</td>\n",
       "      <td>{'svc__C': 0.1, 'svc__kernel': 'linear'}</td>\n",
       "      <td>2</td>\n",
       "      <td>...</td>\n",
       "      <td>0.923077</td>\n",
       "      <td>1.0</td>\n",
       "      <td>1.0</td>\n",
       "      <td>0.992308</td>\n",
       "      <td>0.916667</td>\n",
       "      <td>1.0</td>\n",
       "      <td>0.002442</td>\n",
       "      <td>0.000669</td>\n",
       "      <td>0.033937</td>\n",
       "      <td>0.003114</td>\n",
       "    </tr>\n",
       "    <tr>\n",
       "      <th>2</th>\n",
       "      <td>0.008477</td>\n",
       "      <td>0.000199</td>\n",
       "      <td>0.978873</td>\n",
       "      <td>0.998443</td>\n",
       "      <td>1</td>\n",
       "      <td>NaN</td>\n",
       "      <td>NaN</td>\n",
       "      <td>linear</td>\n",
       "      <td>{'svc__C': 1.0, 'svc__kernel': 'linear'}</td>\n",
       "      <td>2</td>\n",
       "      <td>...</td>\n",
       "      <td>0.923077</td>\n",
       "      <td>1.0</td>\n",
       "      <td>1.0</td>\n",
       "      <td>0.992308</td>\n",
       "      <td>0.916667</td>\n",
       "      <td>1.0</td>\n",
       "      <td>0.001022</td>\n",
       "      <td>0.000399</td>\n",
       "      <td>0.033937</td>\n",
       "      <td>0.003114</td>\n",
       "    </tr>\n",
       "    <tr>\n",
       "      <th>3</th>\n",
       "      <td>0.006782</td>\n",
       "      <td>0.000798</td>\n",
       "      <td>0.978873</td>\n",
       "      <td>1.000000</td>\n",
       "      <td>10</td>\n",
       "      <td>NaN</td>\n",
       "      <td>NaN</td>\n",
       "      <td>linear</td>\n",
       "      <td>{'svc__C': 10.0, 'svc__kernel': 'linear'}</td>\n",
       "      <td>2</td>\n",
       "      <td>...</td>\n",
       "      <td>0.923077</td>\n",
       "      <td>1.0</td>\n",
       "      <td>1.0</td>\n",
       "      <td>1.000000</td>\n",
       "      <td>0.916667</td>\n",
       "      <td>1.0</td>\n",
       "      <td>0.001596</td>\n",
       "      <td>0.000399</td>\n",
       "      <td>0.033937</td>\n",
       "      <td>0.000000</td>\n",
       "    </tr>\n",
       "    <tr>\n",
       "      <th>4</th>\n",
       "      <td>0.003291</td>\n",
       "      <td>0.000000</td>\n",
       "      <td>0.978873</td>\n",
       "      <td>1.000000</td>\n",
       "      <td>100</td>\n",
       "      <td>NaN</td>\n",
       "      <td>NaN</td>\n",
       "      <td>linear</td>\n",
       "      <td>{'svc__C': 100.0, 'svc__kernel': 'linear'}</td>\n",
       "      <td>2</td>\n",
       "      <td>...</td>\n",
       "      <td>0.923077</td>\n",
       "      <td>1.0</td>\n",
       "      <td>1.0</td>\n",
       "      <td>1.000000</td>\n",
       "      <td>0.916667</td>\n",
       "      <td>1.0</td>\n",
       "      <td>0.000779</td>\n",
       "      <td>0.000000</td>\n",
       "      <td>0.033937</td>\n",
       "      <td>0.000000</td>\n",
       "    </tr>\n",
       "  </tbody>\n",
       "</table>\n",
       "<p>5 rows × 34 columns</p>\n",
       "</div>"
      ],
      "text/plain": [
       "   mean_fit_time  mean_score_time  mean_test_score  mean_train_score  \\\n",
       "0       0.034803         0.000598         0.971831          1.000000   \n",
       "1       0.006981         0.000498         0.978873          0.998443   \n",
       "2       0.008477         0.000199         0.978873          0.998443   \n",
       "3       0.006782         0.000798         0.978873          1.000000   \n",
       "4       0.003291         0.000000         0.978873          1.000000   \n",
       "\n",
       "  param_svc__C param_svc__coef0 param_svc__gamma param_svc__kernel  \\\n",
       "0         0.01              NaN              NaN            linear   \n",
       "1          0.1              NaN              NaN            linear   \n",
       "2            1              NaN              NaN            linear   \n",
       "3           10              NaN              NaN            linear   \n",
       "4          100              NaN              NaN            linear   \n",
       "\n",
       "                                       params  rank_test_score  \\\n",
       "0   {'svc__C': 0.01, 'svc__kernel': 'linear'}               19   \n",
       "1    {'svc__C': 0.1, 'svc__kernel': 'linear'}                2   \n",
       "2    {'svc__C': 1.0, 'svc__kernel': 'linear'}                2   \n",
       "3   {'svc__C': 10.0, 'svc__kernel': 'linear'}                2   \n",
       "4  {'svc__C': 100.0, 'svc__kernel': 'linear'}                2   \n",
       "\n",
       "        ...         split7_test_score  split7_train_score  split8_test_score  \\\n",
       "0       ...                  0.846154                 1.0                1.0   \n",
       "1       ...                  0.923077                 1.0                1.0   \n",
       "2       ...                  0.923077                 1.0                1.0   \n",
       "3       ...                  0.923077                 1.0                1.0   \n",
       "4       ...                  0.923077                 1.0                1.0   \n",
       "\n",
       "   split8_train_score  split9_test_score  split9_train_score  std_fit_time  \\\n",
       "0            1.000000           0.916667                 1.0      0.017041   \n",
       "1            0.992308           0.916667                 1.0      0.002442   \n",
       "2            0.992308           0.916667                 1.0      0.001022   \n",
       "3            1.000000           0.916667                 1.0      0.001596   \n",
       "4            1.000000           0.916667                 1.0      0.000779   \n",
       "\n",
       "   std_score_time  std_test_score  std_train_score  \n",
       "0        0.000489        0.049292         0.000000  \n",
       "1        0.000669        0.033937         0.003114  \n",
       "2        0.000399        0.033937         0.003114  \n",
       "3        0.000399        0.033937         0.000000  \n",
       "4        0.000000        0.033937         0.000000  \n",
       "\n",
       "[5 rows x 34 columns]"
      ]
     },
     "execution_count": 23,
     "metadata": {},
     "output_type": "execute_result"
    }
   ],
   "source": [
    "df = pd.DataFrame(gs.cv_results_)\n",
    "df.head(5)"
   ]
  },
  {
   "cell_type": "code",
   "execution_count": 24,
   "metadata": {},
   "outputs": [
    {
     "name": "stdout",
     "output_type": "stream",
     "text": [
      "Fitting 10 folds for each of 30 candidates, totalling 300 fits\n"
     ]
    },
    {
     "name": "stderr",
     "output_type": "stream",
     "text": [
      "[Parallel(n_jobs=-1)]: Done  34 tasks      | elapsed:    2.6s\n",
      "[Parallel(n_jobs=-1)]: Done 300 out of 300 | elapsed:    3.2s finished\n"
     ]
    },
    {
     "data": {
      "text/plain": [
       "RandomizedSearchCV(cv=10, error_score='raise',\n",
       "          estimator=Pipeline(memory=None,\n",
       "     steps=[('standardscaler', StandardScaler(copy=True, with_mean=True, with_std=True)), ('lineardiscriminantanalysis', LinearDiscriminantAnalysis(n_components=None, priors=None, shrinkage=None,\n",
       "              solver='svd', store_covariance=False, tol=0.0001)), ('svc'...\n",
       "  max_iter=-1, probability=False, random_state=None, shrinking=True,\n",
       "  tol=0.001, verbose=False))]),\n",
       "          fit_params=None, iid=True, n_iter=30, n_jobs=-1,\n",
       "          param_distributions={'svc__C': array([1.000e-02, 2.000e-02, ..., 9.998e+01, 9.999e+01]), 'svc__gamma': array([1.000e-02, 2.000e-02, ..., 9.998e+01, 9.999e+01]), 'svc__kernel': ['rbf']},\n",
       "          pre_dispatch='2*n_jobs', random_state=None, refit=True,\n",
       "          return_train_score='warn', scoring='accuracy', verbose=True)"
      ]
     },
     "execution_count": 24,
     "metadata": {},
     "output_type": "execute_result"
    }
   ],
   "source": [
    "mogucnosti = {'svc__C': np.arange(0.01, 100, 0.01), 'svc__gamma': np.arange(0.01, 100, 0.01), 'svc__kernel': ['rbf']}\n",
    "rs = RandomizedSearchCV(estimator=pipe_svc, param_distributions=mogucnosti, scoring='accuracy',\n",
    "                        n_iter=30, cv=10, n_jobs=-1, verbose=True)\n",
    "rs.fit(podaci_tren, oznake_tren)"
   ]
  },
  {
   "cell_type": "code",
   "execution_count": 25,
   "metadata": {},
   "outputs": [
    {
     "data": {
      "text/plain": [
       "{'svc__C': 61.47, 'svc__gamma': 2.4499999999999997, 'svc__kernel': 'rbf'}"
      ]
     },
     "execution_count": 25,
     "metadata": {},
     "output_type": "execute_result"
    }
   ],
   "source": [
    "rs.best_params_"
   ]
  },
  {
   "cell_type": "code",
   "execution_count": 26,
   "metadata": {},
   "outputs": [
    {
     "data": {
      "text/plain": [
       "0.951"
      ]
     },
     "execution_count": 26,
     "metadata": {},
     "output_type": "execute_result"
    }
   ],
   "source": [
    "np.round(rs.best_score_, 3)"
   ]
  },
  {
   "cell_type": "code",
   "execution_count": 27,
   "metadata": {
    "collapsed": true
   },
   "outputs": [],
   "source": [
    "est = rs.best_estimator_"
   ]
  },
  {
   "cell_type": "code",
   "execution_count": 28,
   "metadata": {},
   "outputs": [
    {
     "data": {
      "text/plain": [
       "1.0"
      ]
     },
     "execution_count": 28,
     "metadata": {},
     "output_type": "execute_result"
    }
   ],
   "source": [
    "est.score(podaci_test, oznake_test)"
   ]
  },
  {
   "cell_type": "code",
   "execution_count": 29,
   "metadata": {},
   "outputs": [
    {
     "name": "stdout",
     "output_type": "stream",
     "text": [
      "             precision    recall  f1-score   support\n",
      "\n",
      "          0       1.00      1.00      1.00        12\n",
      "          1       1.00      1.00      1.00        14\n",
      "          2       1.00      1.00      1.00        10\n",
      "\n",
      "avg / total       1.00      1.00      1.00        36\n",
      "\n"
     ]
    }
   ],
   "source": [
    "print(classification_report(oznake_test, est.predict(podaci_test)))"
   ]
  },
  {
   "cell_type": "markdown",
   "metadata": {},
   "source": [
    "<li>Izvođenje 5x2 ugniježđene unakrsne validacije za selekciju modela</li>"
   ]
  },
  {
   "cell_type": "code",
   "execution_count": 30,
   "metadata": {},
   "outputs": [
    {
     "name": "stdout",
     "output_type": "stream",
     "text": [
      "Preciznost: 0.972 +/- 0.018\n"
     ]
    }
   ],
   "source": [
    "raspon = [0.001, 0.01, 0.1, 1.0, 10.0, 100.0, 1000.0]\n",
    "mogucnosti = [{'svc__C': raspon, 'svc__kernel': ['linear']},\n",
    "              {'svc__C': raspon, 'svc__gamma': raspon, 'svc__kernel': ['rbf']},\n",
    "              {'svc__C': raspon, 'svc__gamma': raspon, 'svc__coef0': raspon, 'svc__kernel': ['sigmoid']}]\n",
    "gs = GridSearchCV(estimator=pipe_svc, param_grid=mogucnosti, scoring='accuracy',\n",
    "                  cv=2, n_jobs=-1, verbose=True, return_train_score=True)\n",
    "\n",
    "rezultati = cross_val_score(estimator=gs, X=podaci, y=oznake, cv=5, n_jobs=-1)\n",
    "print(f'Preciznost: {np.round(np.mean(rezultati), 3)} +/- {np.round(np.std(rezultati), 3)}')"
   ]
  },
  {
   "cell_type": "markdown",
   "metadata": {},
   "source": [
    "## Korištenje funkcije <i><font color=\"red\">learning_curve</font></i> <a id=\"learning_curve\"></a>"
   ]
  },
  {
   "cell_type": "code",
   "execution_count": 31,
   "metadata": {
    "collapsed": true
   },
   "outputs": [],
   "source": [
    "from sklearn.model_selection import learning_curve"
   ]
  },
  {
   "cell_type": "markdown",
   "metadata": {},
   "source": [
    "<li>Generiranje krivulja učenja za 20 veličina podataka za treniranje</li>"
   ]
  },
  {
   "cell_type": "code",
   "execution_count": 32,
   "metadata": {
    "collapsed": true
   },
   "outputs": [],
   "source": [
    "velicine_skupa, rez_tren, rez_test = learning_curve(estimator=pipe_svc, X=podaci_tren, y=oznake_tren,\n",
    "                                                        train_sizes=np.linspace(0.1, 1.0, 15), cv=10, n_jobs=-1)\n",
    "tren_sred = np.mean(rez_tren, axis=1)\n",
    "tren_sdev = np.std(rez_tren, axis=1)\n",
    "test_sred = np.mean(rez_test, axis=1)\n",
    "test_sdev = np.std(rez_test, axis=1)"
   ]
  },
  {
   "cell_type": "code",
   "execution_count": 33,
   "metadata": {},
   "outputs": [
    {
     "data": {
      "image/png": "[encoded data removed]",
      "text/plain": [
       "<matplotlib.figure.Figure at 0x1860b305198>"
      ]
     },
     "metadata": {},
     "output_type": "display_data"
    }
   ],
   "source": [
    "plt.figure(figsize=(14,6))\n",
    "plt.grid()\n",
    "plt.plot(velicine_skupa, tren_sred, color='red', linestyle='--', marker='s', label='Preciznosti treniranja modela')\n",
    "plt.plot(velicine_skupa, test_sred, color='blue', linestyle='--', marker='s', label='Preciznosti validacije modela')\n",
    "plt.fill_between(velicine_skupa, tren_sred - tren_sdev, tren_sred + tren_sdev, alpha=0.1, color='red')\n",
    "plt.fill_between(velicine_skupa, test_sred - test_sdev, test_sred + test_sdev, alpha=0.1, color='blue')\n",
    "plt.xlabel('Broj uzoraka za treniranje')\n",
    "plt.ylabel('Preciznost')\n",
    "plt.legend(loc='lower right')\n",
    "plt.ylim([0.5, 1.05])\n",
    "plt.show()"
   ]
  },
  {
   "cell_type": "markdown",
   "metadata": {},
   "source": [
    "## Korištenje funkcije <i><font color=\"red\">validation_curve</font></i> <a id=\"validation_curve\"></a>"
   ]
  },
  {
   "cell_type": "code",
   "execution_count": 34,
   "metadata": {
    "collapsed": true
   },
   "outputs": [],
   "source": [
    "from sklearn.model_selection import validation_curve"
   ]
  },
  {
   "cell_type": "markdown",
   "metadata": {},
   "source": [
    "<li>Generiranje krivulja validacija za različite vrijednosti varijable <i>C</i> metode potpornih vektora</li>"
   ]
  },
  {
   "cell_type": "code",
   "execution_count": 35,
   "metadata": {
    "collapsed": true
   },
   "outputs": [],
   "source": [
    "rez_tren, rez_test = validation_curve(estimator=pipe_svc, X=podaci_tren, y=oznake_tren, cv=10, n_jobs=-1,\n",
    "                                                      param_name='svc__C', param_range=raspon)\n",
    "tren_sred = np.mean(rez_tren, axis=1)\n",
    "tren_sdev = np.std(rez_tren, axis=1)\n",
    "test_sred = np.mean(rez_test, axis=1)\n",
    "test_sdev = np.std(rez_test, axis=1)"
   ]
  },
  {
   "cell_type": "code",
   "execution_count": 36,
   "metadata": {},
   "outputs": [
    {
     "data": {
      "image/png": "[encoded data removed]",
      "text/plain": [
       "<matplotlib.figure.Figure at 0x1860b2ac5f8>"
      ]
     },
     "metadata": {},
     "output_type": "display_data"
    }
   ],
   "source": [
    "plt.figure(figsize=(14,6))\n",
    "plt.grid()\n",
    "plt.plot(raspon, tren_sred, color='red', linestyle='--', marker='s', label='Preciznosti treniranja modela')\n",
    "plt.plot(raspon, test_sred, color='blue', linestyle='--', marker='s', label='Preciznosti validacije modela')\n",
    "plt.fill_between(raspon, tren_sred - tren_sdev, tren_sred + tren_sdev, alpha=0.1, color='red')\n",
    "plt.fill_between(raspon, test_sred - test_sdev, test_sred + test_sdev, alpha=0.1, color='blue')\n",
    "plt.xlabel('Vrijednost hiperparametra C')\n",
    "plt.ylabel('Preciznost')\n",
    "plt.legend(loc='lower right')\n",
    "plt.ylim([0.5, 1.05])\n",
    "plt.xscale('log')\n",
    "plt.show()"
   ]
  },
  {
   "cell_type": "markdown",
   "metadata": {},
   "source": [
    "## Korištenje klase <i><font color=\"red\">Pipeline</font></i> <a id=\"pipeline\"></a>"
   ]
  },
  {
   "cell_type": "code",
   "execution_count": 37,
   "metadata": {
    "collapsed": true
   },
   "outputs": [],
   "source": [
    "from sklearn.pipeline import make_pipeline"
   ]
  },
  {
   "cell_type": "markdown",
   "metadata": {},
   "source": [
    "<li>Ulančavanje klasa <i>StandardScaler</i>, <i>PCA</i> i <i>LogisticRegression</i> u jedan meta-estimator</li>"
   ]
  },
  {
   "cell_type": "code",
   "execution_count": 38,
   "metadata": {
    "collapsed": true
   },
   "outputs": [],
   "source": [
    "from sklearn.linear_model import LogisticRegression\n",
    "from sklearn.decomposition import PCA\n",
    "\n",
    "podaci_rak = datasets.load_breast_cancer()\n",
    "podaci, oznake = podaci_rak.data, podaci_rak.target\n",
    "podaci_tren, podaci_test, oznake_tren, oznake_test = train_test_split(podaci, oznake, test_size=0.2,\n",
    "                                                                      stratify=oznake, random_state=1)\n",
    "pipe_lr = make_pipeline(StandardScaler(), PCA(n_components=5), LogisticRegression(penalty='l2', C=0.01))"
   ]
  },
  {
   "cell_type": "code",
   "execution_count": 39,
   "metadata": {},
   "outputs": [
    {
     "data": {
      "text/plain": [
       "Pipeline(memory=None,\n",
       "     steps=[('standardscaler', StandardScaler(copy=True, with_mean=True, with_std=True)), ('pca', PCA(copy=True, iterated_power='auto', n_components=5, random_state=None,\n",
       "  svd_solver='auto', tol=0.0, whiten=False)), ('logisticregression', LogisticRegression(C=0.01, class_weight=None, dual=False, fit_int...ty='l2', random_state=None, solver='liblinear', tol=0.0001,\n",
       "          verbose=0, warm_start=False))])"
      ]
     },
     "execution_count": 39,
     "metadata": {},
     "output_type": "execute_result"
    }
   ],
   "source": [
    "pipe_lr.fit(podaci_tren, oznake_tren)"
   ]
  },
  {
   "cell_type": "code",
   "execution_count": 40,
   "metadata": {},
   "outputs": [
    {
     "data": {
      "text/plain": [
       "0.9736842105263158"
      ]
     },
     "execution_count": 40,
     "metadata": {},
     "output_type": "execute_result"
    }
   ],
   "source": [
    "pipe_lr.score(podaci_test, oznake_test)"
   ]
  },
  {
   "cell_type": "markdown",
   "metadata": {},
   "source": [
    "## Korištenje funkcije <i><font color=\"red\">confusion_matrix</font></i> <a id=\"confusion_matrix\"></a>"
   ]
  },
  {
   "cell_type": "code",
   "execution_count": 41,
   "metadata": {
    "collapsed": true
   },
   "outputs": [],
   "source": [
    "from sklearn.metrics import confusion_matrix"
   ]
  },
  {
   "cell_type": "markdown",
   "metadata": {},
   "source": [
    "<li>Određivanje matrice grešaka za binarni problem klasifikacije</li>"
   ]
  },
  {
   "cell_type": "code",
   "execution_count": 42,
   "metadata": {},
   "outputs": [
    {
     "name": "stdout",
     "output_type": "stream",
     "text": [
      "[[40  2]\n",
      " [ 1 71]]\n"
     ]
    }
   ],
   "source": [
    "confmat = confusion_matrix(y_true=oznake_test, y_pred=pipe_lr.predict(podaci_test))\n",
    "print(confmat)"
   ]
  },
  {
   "cell_type": "code",
   "execution_count": 43,
   "metadata": {},
   "outputs": [
    {
     "name": "stdout",
     "output_type": "stream",
     "text": [
      "{'TN': 40, 'FP': 2, 'FN': 1, 'TP': 71}\n"
     ]
    }
   ],
   "source": [
    "con_dict = {\"TN\":confmat[0,0], \"FP\":confmat[0,1], \"FN\":confmat[1,0], \"TP\":confmat[1,1]}\n",
    "print(con_dict)"
   ]
  },
  {
   "cell_type": "markdown",
   "metadata": {},
   "source": [
    "## Korištenje funkcija <i><font color=\"red\">roc_curve</font></i> i <i><font color=\"red\">roc_auc_score</font></i> <a id=\"roc\"></a>"
   ]
  },
  {
   "cell_type": "code",
   "execution_count": 44,
   "metadata": {
    "collapsed": true
   },
   "outputs": [],
   "source": [
    "from sklearn.metrics import roc_curve, roc_auc_score"
   ]
  },
  {
   "cell_type": "markdown",
   "metadata": {},
   "source": [
    "<li>Kreiranje ROC krivulja za 3 različita modela i izračun ROC AUC vrijednosti za svaki</li>"
   ]
  },
  {
   "cell_type": "code",
   "execution_count": 46,
   "metadata": {},
   "outputs": [
    {
     "data": {
      "image/png": "[encoded data removed]",
      "text/plain": [
       "<matplotlib.figure.Figure at 0x1860b32ca90>"
      ]
     },
     "metadata": {},
     "output_type": "display_data"
    }
   ],
   "source": [
    "from sklearn.ensemble import RandomForestClassifier\n",
    "\n",
    "vjerojatnosti = []\n",
    "roc_score = []\n",
    "\n",
    "pipe_lr1 = make_pipeline(StandardScaler(), PCA(n_components=5), LogisticRegression(penalty='l2', C=0.01))\n",
    "vjerojatnosti.append(pipe_lr1.fit(podaci_tren, oznake_tren).predict_proba(podaci_test))\n",
    "\n",
    "pipe_lr2 = make_pipeline(PCA(n_components=3), RandomForestClassifier(n_estimators=2))\n",
    "vjerojatnosti.append(pipe_lr2.fit(podaci_tren, oznake_tren).predict_proba(podaci_test))\n",
    "\n",
    "pipe_lr3 = make_pipeline(StandardScaler(), LogisticRegression(penalty='l1', C=0.00575))\n",
    "vjerojatnosti.append(pipe_lr3.fit(podaci_tren, oznake_tren).predict_proba(podaci_test))\n",
    "\n",
    "fig, ax = plt.subplots(nrows=1, ncols=2, figsize=(14,6))\n",
    "ax[0].grid()\n",
    "for c, i, v in zip(['r', 'b', 'y'], range(1,4), vjerojatnosti):\n",
    "    fpr, tpr, thresholds = roc_curve(oznake_test, v[:, 1], pos_label=1)\n",
    "    ax[0].plot(fpr, tpr, label=f'pipe_lr{i}', color=c)\n",
    "    roc_score.append(roc_auc_score(oznake_test, v[:, 1]))\n",
    "\n",
    "ax[0].plot([0, 1], [0, 1], linestyle='--', color='black', label='nasumično predviđanje')\n",
    "ax[0].set_xlabel('FPR')\n",
    "ax[0].set_ylabel('TPR')\n",
    "ax[0].legend(loc='lower right')\n",
    "ax[1].bar(range(1,6), np.concatenate((roc_score, np.zeros(2))), color='g', alpha=0.5,\n",
    "          align='center', label='ROC AUC vrijednosti')\n",
    "ax[1].set_xlabel('Indeks modela')\n",
    "ax[1].set_xticks((1,2,3))\n",
    "ax[1].set_xticklabels([f'pipe_lr{i}' for i in (1,2,3)])\n",
    "ax[1].set_ylabel('ROC AUC')\n",
    "ax[1].legend(loc='best')\n",
    "plt.show()"
   ]
  },
  {
   "cell_type": "markdown",
   "metadata": {},
   "source": [
    "## Korištenje funkcije <i><font color=\"red\">precision_recall_curve</font></i> <a id=\"precision_recall_curve\"></a>"
   ]
  },
  {
   "cell_type": "code",
   "execution_count": 47,
   "metadata": {
    "collapsed": true
   },
   "outputs": [],
   "source": [
    "from sklearn.metrics import precision_recall_curve"
   ]
  },
  {
   "cell_type": "code",
   "execution_count": 48,
   "metadata": {},
   "outputs": [
    {
     "data": {
      "image/png": "[encoded data removed]",
      "text/plain": [
       "<matplotlib.figure.Figure at 0x1860b3aa470>"
      ]
     },
     "metadata": {},
     "output_type": "display_data"
    }
   ],
   "source": [
    "plt.figure(figsize=(14,6))\n",
    "plt.grid()\n",
    "for c, i, v in zip(['r', 'b', 'y'], range(1,4), vjerojatnosti):\n",
    "    pre, rec, thresholds = precision_recall_curve(oznake_test, v[:, 1], pos_label=1)\n",
    "    plt.plot(pre, rec, label=f'pipe_lr{i}', color=c)\n",
    "plt.xlabel('Recall')\n",
    "plt.ylabel('Precision')\n",
    "plt.legend(loc='lower left')\n",
    "plt.show()"
   ]
  },
  {
   "cell_type": "markdown",
   "metadata": {
    "collapsed": true
   },
   "source": [
    "## Korištenje funkcija <i><font color=\"red\">accuracy_score</font></i>, <i><font color=\"red\">precision_score</font></i>, <i><font color=\"red\">recall_score</font></i> i <i><font color=\"red\">f1_score</font></i> <a id=\"score\"></a>"
   ]
  },
  {
   "cell_type": "code",
   "execution_count": 55,
   "metadata": {
    "collapsed": true
   },
   "outputs": [],
   "source": [
    "from sklearn.metrics import accuracy_score, precision_score, recall_score, f1_score\n",
    "\n",
    "podaci_pred = pipe_lr.predict(podaci_test)"
   ]
  },
  {
   "cell_type": "markdown",
   "metadata": {},
   "source": [
    "<li>accuracy score</li>"
   ]
  },
  {
   "cell_type": "code",
   "execution_count": 56,
   "metadata": {},
   "outputs": [
    {
     "name": "stdout",
     "output_type": "stream",
     "text": [
      "Accuracy: 0.9736842105263158\n"
     ]
    }
   ],
   "source": [
    "print(f'Accuracy: {accuracy_score(y_true=oznake_test, y_pred=podaci_pred)}')"
   ]
  },
  {
   "cell_type": "markdown",
   "metadata": {},
   "source": [
    "<li>precision score</li>"
   ]
  },
  {
   "cell_type": "code",
   "execution_count": 57,
   "metadata": {},
   "outputs": [
    {
     "name": "stdout",
     "output_type": "stream",
     "text": [
      "Precision: 0.9726027397260274\n"
     ]
    }
   ],
   "source": [
    "print(f'Precision: {precision_score(y_true=oznake_test, y_pred=podaci_pred)}')"
   ]
  },
  {
   "cell_type": "markdown",
   "metadata": {},
   "source": [
    "<li>recall score</li>"
   ]
  },
  {
   "cell_type": "code",
   "execution_count": 58,
   "metadata": {},
   "outputs": [
    {
     "name": "stdout",
     "output_type": "stream",
     "text": [
      "Recall: 0.9861111111111112\n"
     ]
    }
   ],
   "source": [
    "print(f'Recall: {recall_score(y_true=oznake_test, y_pred=podaci_pred)}')"
   ]
  },
  {
   "cell_type": "markdown",
   "metadata": {},
   "source": [
    "<li>f1 score</li>"
   ]
  },
  {
   "cell_type": "code",
   "execution_count": 59,
   "metadata": {},
   "outputs": [
    {
     "name": "stdout",
     "output_type": "stream",
     "text": [
      "f1: 0.9793103448275863\n"
     ]
    }
   ],
   "source": [
    "print(f'f1: {f1_score(y_true=oznake_test, y_pred=podaci_pred)}')"
   ]
  },
  {
   "cell_type": "code",
   "execution_count": 60,
   "metadata": {
    "collapsed": true
   },
   "outputs": [],
   "source": [
    "from sklearn.metrics import precision_recall_fscore_support"
   ]
  },
  {
   "cell_type": "code",
   "execution_count": 73,
   "metadata": {},
   "outputs": [
    {
     "name": "stdout",
     "output_type": "stream",
     "text": [
      "-podudaranje 2. stupca s rezultatima prijašnjih funkcija za pozitivnu klasu (klasu 1)-\n"
     ]
    },
    {
     "data": {
      "text/html": [
       "<div>\n",
       "<style>\n",
       "    .dataframe thead tr:only-child th {\n",
       "        text-align: right;\n",
       "    }\n",
       "\n",
       "    .dataframe thead th {\n",
       "        text-align: left;\n",
       "    }\n",
       "\n",
       "    .dataframe tbody tr th {\n",
       "        vertical-align: top;\n",
       "    }\n",
       "</style>\n",
       "<table border=\"1\" class=\"dataframe\">\n",
       "  <thead>\n",
       "    <tr style=\"text-align: right;\">\n",
       "      <th></th>\n",
       "      <th>Broj uzoraka</th>\n",
       "      <th>Precision</th>\n",
       "      <th>Recall</th>\n",
       "      <th>f1</th>\n",
       "    </tr>\n",
       "  </thead>\n",
       "  <tbody>\n",
       "    <tr>\n",
       "      <th>0</th>\n",
       "      <td>42</td>\n",
       "      <td>0.975610</td>\n",
       "      <td>0.952381</td>\n",
       "      <td>0.963855</td>\n",
       "    </tr>\n",
       "    <tr>\n",
       "      <th>1</th>\n",
       "      <td>72</td>\n",
       "      <td>0.972603</td>\n",
       "      <td>0.986111</td>\n",
       "      <td>0.979310</td>\n",
       "    </tr>\n",
       "  </tbody>\n",
       "</table>\n",
       "</div>"
      ],
      "text/plain": [
       "   Broj uzoraka  Precision    Recall        f1\n",
       "0            42   0.975610  0.952381  0.963855\n",
       "1            72   0.972603  0.986111  0.979310"
      ]
     },
     "execution_count": 73,
     "metadata": {},
     "output_type": "execute_result"
    }
   ],
   "source": [
    "print('-podudaranje 2. stupca s rezultatima prijašnjih funkcija za pozitivnu klasu (klasu 1)-')\n",
    "rez = precision_recall_fscore_support(y_true=oznake_test, y_pred=podaci_pred)\n",
    "df = pd.DataFrame({\"Precision\":rez[0], \"Recall\":rez[1], \"f1\":rez[2], \"Broj uzoraka\":rez[3]})\n",
    "df"
   ]
  },
  {
   "cell_type": "markdown",
   "metadata": {},
   "source": [
    "## Korištenje funkcije <i><font color=\"red\">make_scorer</font></i> <a id=\"make_scorer\"></a>"
   ]
  },
  {
   "cell_type": "code",
   "execution_count": 77,
   "metadata": {
    "collapsed": true
   },
   "outputs": [],
   "source": [
    "from sklearn.metrics import make_scorer"
   ]
  },
  {
   "cell_type": "markdown",
   "metadata": {},
   "source": [
    "<li>Odabir f1 metrike za GridSearchCV</li>"
   ]
  },
  {
   "cell_type": "code",
   "execution_count": 79,
   "metadata": {
    "collapsed": true
   },
   "outputs": [],
   "source": [
    "scorer = make_scorer(f1_score, pos_label=1)"
   ]
  },
  {
   "cell_type": "code",
   "execution_count": 80,
   "metadata": {
    "collapsed": true
   },
   "outputs": [],
   "source": [
    "raspon = [0.01, 0.1, 1.0, 10.0, 100.0]\n",
    "mogucnosti = [{'svc__C': raspon, 'svc__kernel': ['linear']},\n",
    "              {'svc__C': raspon, 'svc__gamma': raspon, 'svc__kernel': ['rbf']}]\n",
    "gs = GridSearchCV(estimator=pipe_svc, param_grid=mogucnosti, scoring=scorer,\n",
    "                  cv=10, n_jobs=-1, verbose=True, return_train_score=True, )"
   ]
  },
  {
   "cell_type": "code",
   "execution_count": 81,
   "metadata": {},
   "outputs": [
    {
     "name": "stdout",
     "output_type": "stream",
     "text": [
      "Fitting 10 folds for each of 30 candidates, totalling 300 fits\n"
     ]
    },
    {
     "name": "stderr",
     "output_type": "stream",
     "text": [
      "[Parallel(n_jobs=-1)]: Done  34 tasks      | elapsed:    3.3s\n",
      "[Parallel(n_jobs=-1)]: Done 300 out of 300 | elapsed:    4.5s finished\n"
     ]
    },
    {
     "data": {
      "text/plain": [
       "GridSearchCV(cv=10, error_score='raise',\n",
       "       estimator=Pipeline(memory=None,\n",
       "     steps=[('standardscaler', StandardScaler(copy=True, with_mean=True, with_std=True)), ('lineardiscriminantanalysis', LinearDiscriminantAnalysis(n_components=None, priors=None, shrinkage=None,\n",
       "              solver='svd', store_covariance=False, tol=0.0001)), ('svc'...\n",
       "  max_iter=-1, probability=False, random_state=None, shrinking=True,\n",
       "  tol=0.001, verbose=False))]),\n",
       "       fit_params=None, iid=True, n_jobs=-1,\n",
       "       param_grid=[{'svc__C': [0.01, 0.1, 1.0, 10.0, 100.0], 'svc__kernel': ['linear']}, {'svc__C': [0.01, 0.1, 1.0, 10.0, 100.0], 'svc__gamma': [0.01, 0.1, 1.0, 10.0, 100.0], 'svc__kernel': ['rbf']}],\n",
       "       pre_dispatch='2*n_jobs', refit=True, return_train_score=True,\n",
       "       scoring=make_scorer(f1_score, pos_label=1), verbose=True)"
      ]
     },
     "execution_count": 81,
     "metadata": {},
     "output_type": "execute_result"
    }
   ],
   "source": [
    "gs.fit(podaci_tren, oznake_tren)"
   ]
  },
  {
   "cell_type": "code",
   "execution_count": 84,
   "metadata": {},
   "outputs": [
    {
     "name": "stdout",
     "output_type": "stream",
     "text": [
      "f1: 0.973\n"
     ]
    }
   ],
   "source": [
    "print(f'f1: {np.round(gs.score(podaci_test, oznake_test), 3)}')"
   ]
  }
 ],
 "metadata": {
  "kernelspec": {
   "display_name": "Python 3",
   "language": "python",
   "name": "python3"
  },
  "language_info": {
   "codemirror_mode": {
    "name": "ipython",
    "version": 3
   },
   "file_extension": ".py",
   "mimetype": "text/x-python",
   "name": "python",
   "nbconvert_exporter": "python",
   "pygments_lexer": "ipython3",
   "version": "3.6.1"
  }
 },
 "nbformat": 4,
 "nbformat_minor": 2
}
